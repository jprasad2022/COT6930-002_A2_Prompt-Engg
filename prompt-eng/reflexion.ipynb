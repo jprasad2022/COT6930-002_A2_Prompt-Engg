{
 "cells": [
  {
   "cell_type": "markdown",
   "metadata": {},
   "source": [
    "\n",
    "\n"
   ]
  },
  {
   "cell_type": "markdown",
   "metadata": {},
   "source": [
    "# Reflexion Prompting\n",
    "Reflexion Prompting is a technique that encourages a model not only to generate an answer but also to reflect on its previous reasoning or actions to identify and learn from its mistakes. In this approach, after an initial output, the model is prompted to assess the effectiveness of its reasoning and to adjust or refine its subsequent responses based on that self-assessment. The goal is to create a feedback loop where the model iteratively improves its performance over multiple interactions by \"learning\" from its past outputs.\n",
    "\n",
    "While this concept is still emerging, one recent paper that explores similar ideas is \"Reflexion: Language Agents with Verbal Reinforcement Learning\" by Shinn et al.(2023). This work presents an approach in which an AI agent uses self-reflection to evaluate its performance and iteratively enhance its strategy. The paper demonstrates how incorporating a reflection loop can lead to improved outcomes on complex tasks. \n",
    "\n",
    "## References:\n",
    "* (Shinn et al. (2023),)[https://arxiv.org/abs/2303.11366]"
   ]
  },
  {
   "cell_type": "markdown",
   "metadata": {},
   "source": [
    "## Running this code on MyBind.org\n",
    "\n",
    "Note: remember that you will need to **adjust CONFIG** with **proper URL and API_KEY**!\n",
    "\n",
    "[![Binder](https://mybinder.org/badge_logo.svg)](https://mybinder.org/v2/gh/GenILab-FAU/prompt-eng/HEAD?urlpath=%2Fdoc%2Ftree%2Fprompt-eng%2Fchain_of_thought.ipynb)\n"
   ]
  },
  {
   "cell_type": "code",
   "execution_count": null,
   "metadata": {},
   "outputs": [
    {
     "name": "stdout",
     "output_type": "stream",
     "text": [
      "\n",
      "You are an expert on Surplus Lines Tax regulations across all 50 states. Your task is to produce a comprehensive requirements analysis for these regulations using the Reflexion approach.\n",
      "\n",
      "Step 1: Initial Analysis\n",
      "- Generate an initial comprehensive analysis that includes:\n",
      "  * A general overview of the surplus lines tax regulatory framework.\n",
      "  * Detailed, state-specific requirements such as tax rates, filing deadlines, and documentation mandates.\n",
      "  * Information on compliance obligations, exemptions, and any unique state-specific conditions.\n",
      "  * Key challenges and considerations for businesses operating under these regulations.\n",
      "\n",
      "Step 2: Self-Reflection and Refinement\n",
      "- Reflect on your initial analysis to identify any errors, omissions, or areas for improvement.\n",
      "- Consider the clarity, accuracy, and completeness of your response.\n",
      "- Revise your analysis internally to address any identified issues.\n",
      "\n",
      "Step 3: Final Output\n",
      "- Provide only the final refined comprehensive requirements analysis for Surplus Lines Tax regulations.\n",
      "- Do not include any intermediate reflective steps or the initial analysis.\n",
      "\n",
      "Now, please generate your final refined comprehensive requirements analysis.\n",
      "\n",
      "<think>\n",
      "Alright, let's try to tackle this problem. The user is asking me to generate a final refined comprehensive requirements analysis for Surplus Lines Tax regulations. They mentioned that I should avoid any intermediate steps and just provide the final document.\n",
      "\n",
      "First, I need to recall what the Surplus Lines Tax entails. It's related to insurance, specifically when an insurer cannot obtain reinsurance in their home country due to regulatory reasons and instead places it with a non-domestic reinsurer. This tax was introduced\n",
      "Time taken: 38.37s\n"
     ]
    }
   ],
   "source": [
    "from _pipeline import create_payload, model_req\n",
    "\n",
    "# Define the prompt as a string variable using the Reflexion approach\n",
    "PROMPT = \"\"\"\n",
    "You are an expert on Surplus Lines Tax regulations across all 50 states. Your task is to produce a comprehensive requirements analysis for these regulations using the Reflexion approach.\n",
    "\n",
    "Step 1: Initial Analysis\n",
    "- Generate an initial comprehensive analysis that includes:\n",
    "  * A general overview of the surplus lines tax regulatory framework.\n",
    "  * Detailed, state-specific requirements such as tax rates, filing deadlines, and documentation mandates.\n",
    "  * Information on compliance obligations, exemptions, and any unique state-specific conditions.\n",
    "  * Key challenges and considerations for businesses operating under these regulations.\n",
    "\n",
    "Step 2: Self-Reflection and Refinement\n",
    "- Reflect on your initial analysis to identify any errors, omissions, or areas for improvement.\n",
    "- Consider the clarity, accuracy, and completeness of your response.\n",
    "- Revise your analysis internally to address any identified issues.\n",
    "\n",
    "Step 3: Final Output\n",
    "- Provide only the final refined comprehensive requirements analysis for Surplus Lines Tax regulations.\n",
    "- Do not include any intermediate reflective steps or the initial analysis.\n",
    "\n",
    "Now, please generate your final refined comprehensive requirements analysis.\n",
    "\"\"\"\n",
    "\n",
    "# You can then use this PROMPT variable in your LLM or orchestration setup\n",
    "print(PROMPT)\n",
    "\n",
    "# Count the number of words\n",
    "word_count = len(PROMPT.split())\n",
    "print(\"Number of words in the prompt:\", word_count)\n",
    "\n",
    "#### (3) Configure the Model request, simulating Workflow Orchestration\n",
    "# Documentation: https://github.com/ollama/ollama/blob/main/docs/api.md\n",
    "payload = create_payload(target=\"ollama\",\n",
    "#                         model=\"deepseek-r1:14b\", \n",
    "                         model=\"phi4\",                         \n",
    "                         prompt=PROMPT, \n",
    "                         temperature=0.3, \n",
    "                         num_ctx=word_count, \n",
    "                         num_predict=5000)\n",
    "\n",
    "### YOU DONT NEED TO CONFIGURE ANYTHING ELSE FROM THIS POINT\n",
    "# Send out to the model\n",
    "time, response = model_req(payload=payload)\n",
    "print(response)\n",
    "if time: print(f'Time taken: {time}s')"
   ]
  }
 ],
 "metadata": {
  "kernelspec": {
   "display_name": "venv",
   "language": "python",
   "name": "venv"
  },
  "language_info": {
   "codemirror_mode": {
    "name": "ipython",
    "version": 3
   },
   "file_extension": ".py",
   "mimetype": "text/x-python",
   "name": "python",
   "nbconvert_exporter": "python",
   "pygments_lexer": "ipython3",
   "version": "3.13.1"
  }
 },
 "nbformat": 4,
 "nbformat_minor": 2
}
