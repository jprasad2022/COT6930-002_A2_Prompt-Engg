{
 "cells": [
  {
   "cell_type": "markdown",
   "metadata": {},
   "source": [
    "\n",
    "\n"
   ]
  },
  {
   "cell_type": "markdown",
   "metadata": {},
   "source": [
    "# ReAct Prompting\n",
    "Prompting using the ReAct approach involves designing your prompt so that the model not only explains its reasoning process (as with chain-of-thought prompting) but also produces explicit actions or decisions as part of its response. Essentially, ReAct (Reason + Act) encourages the model to interleave reasoning steps with concrete actions. This can be especially beneficial in scenarios where the model is expected to interact with an environment or perform multi-step decision-making—by clearly indicating both its internal thought process and the subsequent actions it plans to take.\n",
    "\n",
    "A seminal paper in this area is \"ReAct: Synergizing Reasoning and Acting in Language Models\" by Yao et al. (2022). This work demonstrates how combining reasoning and acting in a unified prompt can lead to improved performance on tasks that require both problem-solving and action selection. \n",
    "\n",
    "## References:\n",
    "* (Yao et al. (2022),)[https://arxiv.org/abs/2210.03629]"
   ]
  },
  {
   "cell_type": "markdown",
   "metadata": {},
   "source": [
    "## Running this code on MyBind.org\n",
    "\n",
    "Note: remember that you will need to **adjust CONFIG** with **proper URL and API_KEY**!\n",
    "\n",
    "[![Binder](https://mybinder.org/badge_logo.svg)](https://mybinder.org/v2/gh/GenILab-FAU/prompt-eng/HEAD?urlpath=%2Fdoc%2Ftree%2Fprompt-eng%2Fchain_of_thought.ipynb)\n"
   ]
  },
  {
   "cell_type": "code",
   "execution_count": null,
   "metadata": {},
   "outputs": [
    {
     "name": "stdout",
     "output_type": "stream",
     "text": [
      "\n",
      "You are a program-aided language model expert with extensive knowledge of Surplus Lines Tax regulations across all 50 states.\n",
      "Your task is to produce a comprehensive requirements analysis for these regulations using a simulated programmatic pipeline.\n",
      "\n",
      "Imagine you have a function 'analyze_regulations()' that:\n",
      "1. Retrieves the overall surplus lines tax regulatory framework.\n",
      "2. Iterates through each state to gather key details:\n",
      "   - Tax rates\n",
      "   - Filing deadlines\n",
      "   - Documentation requirements\n",
      "   - Compliance obligations, exemptions, and any unique state-specific conditions.\n",
      "3. Considers key challenges and considerations for businesses operating under these regulations.\n",
      "4. Organizes the information either by state or by grouping related regulatory themes.\n",
      "\n",
      "Using your internal program-aided reasoning, simulate executing this function and generate the final, well-organized analysis. Do not display any internal code or intermediate steps—only output the final consolidated requirements analysis.\n",
      "\n",
      "Now, please generate the final comprehensive requirements analysis for Surplus Lines Tax regulations.\n",
      "\n",
      "<think>\n",
      "Okay, so I'm trying to understand the Surplus Lines Tax regulations in different states. From what I remember, each state has its own rules about how this tax is calculated and when it's due. The user wants a comprehensive breakdown of these regulations across multiple states, focusing on key aspects like definitions, calculation methods, exceptions, compliance requirements, reporting periods, penalties, exemptions, nexus thresholds, and available resources.\n",
      "\n",
      "I should start by looking at each state individually because the rules vary widely.\n",
      "Time taken: 39.828s\n"
     ]
    }
   ],
   "source": [
    "\n",
    "from _pipeline import create_payload, model_req\n",
    "\n",
    "# Define the prompt as a string variable using a ReAct approach\n",
    "PROMPT = \"\"\"\n",
    "You are an expert on Surplus Lines Tax regulations across all 50 states. Your task is to produce a comprehensive requirements analysis for these regulations using the ReAct approach.\n",
    "\n",
    "Step 1: Reasoning\n",
    "- First, think through and document the key components required for a complete requirements analysis:\n",
    "  * A general overview of the surplus lines tax regulatory framework.\n",
    "  * Detailed, state-specific requirements including tax rates, filing deadlines, and documentation mandates.\n",
    "  * Information on compliance obligations, exemptions, and any unique state-specific conditions.\n",
    "  * Key challenges and considerations for businesses operating under these regulations.\n",
    "- Write down your internal chain-of-thought steps that outline how you plan to structure the analysis.\n",
    "\n",
    "Step 2: Acting\n",
    "- Using the reasoning above, produce a final, well-organized requirements analysis covering all 50 states.\n",
    "- Organize your final analysis by state or by regulatory theme.\n",
    "- Clearly label your final answer and ensure it is concise, accurate, and detailed.\n",
    "\n",
    "Now, please display your reasoning steps followed by the final comprehensive requirements analysis for Surplus Lines Tax regulations.\n",
    "\"\"\"\n",
    "\n",
    "# You can then use this PROMPT variable in your LLM or orchestration setup\n",
    "print(PROMPT)\n",
    "\n",
    "# Count the number of words\n",
    "word_count = len(PROMPT.split())\n",
    "print(\"Number of words in the prompt:\", word_count)\n",
    "\n",
    "#### (3) Configure the Model request, simulating Workflow Orchestration\n",
    "# Documentation: https://github.com/ollama/ollama/blob/main/docs/api.md\n",
    "payload = create_payload(target=\"ollama\",\n",
    "#                         model=\"deepseek-r1:14b\", \n",
    "                         model=\"phi4\",                         \n",
    "                         prompt=PROMPT, \n",
    "                         temperature=0.3, \n",
    "                         num_ctx=word_count, \n",
    "                         num_predict=5000)\n",
    "\n",
    "### YOU DONT NEED TO CONFIGURE ANYTHING ELSE FROM THIS POINT\n",
    "# Send out to the model\n",
    "time, response = model_req(payload=payload)\n",
    "print(response)\n",
    "if time: print(f'Time taken: {time}s')"
   ]
  }
 ],
 "metadata": {
  "kernelspec": {
   "display_name": "venv",
   "language": "python",
   "name": "venv"
  },
  "language_info": {
   "codemirror_mode": {
    "name": "ipython",
    "version": 3
   },
   "file_extension": ".py",
   "mimetype": "text/x-python",
   "name": "python",
   "nbconvert_exporter": "python",
   "pygments_lexer": "ipython3",
   "version": "3.13.1"
  }
 },
 "nbformat": 4,
 "nbformat_minor": 2
}
