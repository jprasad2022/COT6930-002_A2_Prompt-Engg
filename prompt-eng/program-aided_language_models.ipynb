{
 "cells": [
  {
   "cell_type": "markdown",
   "metadata": {},
   "source": [
    "\n",
    "\n"
   ]
  },
  {
   "cell_type": "markdown",
   "metadata": {},
   "source": [
    "# Program-Aided Language Models Prompting\n",
    "\n",
    "Program-Aided Language Models prompting is an approach where the model is instructed—via its prompt—to generate executable code (e.g., Python) as part of its reasoning process. The idea is to leverage the precision of programming to perform computations or logical operations that the model might struggle with if it relied solely on internal, opaque reasoning. For instance, when solving a math problem, the model might output a code snippet to carry out the calculations, and then that code is executed to produce a verifiable result. This can help in reducing errors and improving the reliability of the model’s answers.\n",
    "\n",
    "A relevant paper in this area is \"PAL: Program-aided Language Models\" by Gao et al. (2022). In this work, the authors demonstrate how instructing language models to generate and execute code as part of their chain-of-thought can significantly enhance their problem-solving capabilities. \n",
    "\n",
    "## References:\n",
    "* (Gao et al. (2022),)[https://arxiv.org/abs/2211.10435]"
   ]
  },
  {
   "cell_type": "markdown",
   "metadata": {},
   "source": [
    "## Running this code on MyBind.org\n",
    "\n",
    "Note: remember that you will need to **adjust CONFIG** with **proper URL and API_KEY**!\n",
    "\n",
    "[![Binder](https://mybinder.org/badge_logo.svg)](https://mybinder.org/v2/gh/GenILab-FAU/prompt-eng/HEAD?urlpath=%2Fdoc%2Ftree%2Fprompt-eng%2Fchain_of_thought.ipynb)\n"
   ]
  },
  {
   "cell_type": "code",
   "execution_count": null,
   "metadata": {},
   "outputs": [
    {
     "name": "stdout",
     "output_type": "stream",
     "text": [
      "\n",
      "You are an expert on Surplus Lines Tax regulations across all 50 states. Your task is to produce a comprehensive requirements analysis for these regulations.\n",
      "\n",
      "[Directional Stimulus]\n",
      "Please structure your final analysis with the following components:\n",
      "1. **General Overview:** Provide a concise summary of the surplus lines tax regulatory framework.\n",
      "2. **State-Specific Details:** For each state, list the key regulatory requirements, including:\n",
      "   - Tax rates\n",
      "   - Filing deadlines\n",
      "   - Documentation mandates\n",
      "3. **Compliance and Exemptions:** Describe compliance obligations, available exemptions, and any unique state-specific conditions.\n",
      "4. **Business Considerations:** Highlight common challenges and considerations for businesses operating under these regulations.\n",
      "\n",
      "[Output Direction]\n",
      "- Organize your response either by state or by grouping related regulatory themes.\n",
      "- Use clear headings, bullet points, or numbered lists for clarity.\n",
      "- Ensure the analysis is detailed, accurate, and concise.\n",
      "\n",
      "Now, please produce the final, consolidated requirements analysis for Surplus Lines Tax regulations.\n",
      "\n",
      "<think>\n",
      "Alright, so I need to figure out how to approach this query about the surplus lines tax regulations. The user has provided a detailed thought process and a structured response already, but now they want me to act as an assistant who's just starting to understand the problem.\n",
      "\n",
      "First off, let me parse what exactly is being asked. The user wants me to generate a response that shows my thought process as I figure out how to answer a specific question about surplus lines tax regulations. It seems like I\n",
      "Time taken: 41.284s\n"
     ]
    }
   ],
   "source": [
    "\n",
    "from _pipeline import create_payload, model_req\n",
    "\n",
    "# Define the prompt as a string variable using a Program-Aided Language Models approach\n",
    "\n",
    "PROMPT = \"\"\"\n",
    "You are a program-aided language model expert with extensive knowledge of Surplus Lines Tax regulations across all 50 states.\n",
    "Your task is to produce a comprehensive requirements analysis for these regulations using a simulated programmatic pipeline.\n",
    "\n",
    "Imagine you have a function 'analyze_regulations()' that:\n",
    "1. Retrieves the overall surplus lines tax regulatory framework.\n",
    "2. Iterates through each state to gather key details:\n",
    "   - Tax rates\n",
    "   - Filing deadlines\n",
    "   - Documentation requirements\n",
    "   - Compliance obligations, exemptions, and any unique state-specific conditions.\n",
    "3. Considers key challenges and considerations for businesses operating under these regulations.\n",
    "4. Organizes the information either by state or by grouping related regulatory themes.\n",
    "\n",
    "Using your internal program-aided reasoning, simulate executing this function and generate the final, well-organized analysis. Do not display any internal code or intermediate steps—only output the final consolidated requirements analysis.\n",
    "\n",
    "Now, please generate the final comprehensive requirements analysis for Surplus Lines Tax regulations.\n",
    "\"\"\"\n",
    "\n",
    "# You can then use this PROMPT variable in your LLM or orchestration setup\n",
    "print(PROMPT)\n",
    "\n",
    "# Count the number of words\n",
    "word_count = len(PROMPT.split())\n",
    "print(\"Number of words in the prompt:\", word_count)\n",
    "\n",
    "#### (3) Configure the Model request, simulating Workflow Orchestration\n",
    "# Documentation: https://github.com/ollama/ollama/blob/main/docs/api.md\n",
    "payload = create_payload(target=\"ollama\",\n",
    "#                         model=\"deepseek-r1:14b\", \n",
    "                         model=\"phi4\",                         \n",
    "                         prompt=PROMPT, \n",
    "                         temperature=0.3, \n",
    "                         num_ctx=word_count, \n",
    "                         num_predict=5000)\n",
    "\n",
    "### YOU DONT NEED TO CONFIGURE ANYTHING ELSE FROM THIS POINT\n",
    "# Send out to the model\n",
    "time, response = model_req(payload=payload)\n",
    "print(response)\n",
    "if time: print(f'Time taken: {time}s')"
   ]
  }
 ],
 "metadata": {
  "kernelspec": {
   "display_name": "venv",
   "language": "python",
   "name": "venv"
  },
  "language_info": {
   "codemirror_mode": {
    "name": "ipython",
    "version": 3
   },
   "file_extension": ".py",
   "mimetype": "text/x-python",
   "name": "python",
   "nbconvert_exporter": "python",
   "pygments_lexer": "ipython3",
   "version": "3.13.1"
  }
 },
 "nbformat": 4,
 "nbformat_minor": 2
}
