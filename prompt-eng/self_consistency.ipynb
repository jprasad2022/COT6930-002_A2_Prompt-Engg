{
 "cells": [
  {
   "cell_type": "markdown",
   "metadata": {},
   "source": [
    "\n",
    "\n"
   ]
  },
  {
   "cell_type": "markdown",
   "metadata": {},
   "source": [
    "# Self Consistency Prompting\n",
    "\n",
    "One of the more advanced techniques in prompt engineering is self-consistency, introduced by `Wang et al. (2022)`. \n",
    "\n",
    "This method seeks to improve upon the traditional greedy decoding typically used in chain-of-thought (CoT) prompting. \n",
    "\n",
    "The core concept involves sampling multiple diverse reasoning paths through few-shot CoT and leveraging these variations to determine the most consistent answer. The technique  enhances the effectiveness of CoT prompting, particularly for tasks requiring arithmetic and commonsense reasoning.\n",
    "\n",
    "## References:\n",
    "* [Wang et al. (2022)](https://arxiv.org/abs/2203.11171)"
   ]
  },
  {
   "cell_type": "markdown",
   "metadata": {},
   "source": [
    "## Running this code on MyBind.org\n",
    "\n",
    "Note: remember that you will need to **adjust CONFIG** with **proper URL and API_KEY**!\n",
    "\n",
    "[![Binder](https://mybinder.org/badge_logo.svg)](https://mybinder.org/v2/gh/GenILab-FAU/prompt-eng/HEAD?urlpath=%2Fdoc%2Ftree%2Fprompt-eng%2Fself_consistency.ipynb)\n",
    "\n"
   ]
  },
  {
   "cell_type": "code",
   "execution_count": null,
   "metadata": {},
   "outputs": [
    {
     "name": "stdout",
     "output_type": "stream",
     "text": [
      "\n",
      "You are an expert on Surplus Lines Tax regulations across all 50 states. Your task is to generate a comprehensive requirements analysis for these regulations using a self-consistency approach.\n",
      "\n",
      "Step 1: Generate at least three separate chain-of-thought reasoning paths. For each chain-of-thought:\n",
      "- Identify the key components needed for a thorough requirements analysis, including:\n",
      "  * An overview of the general regulatory framework.\n",
      "  * Detailed state-specific requirements (such as tax rates, filing deadlines, and documentation requirements).\n",
      "  * Compliance obligations, exemptions, and any unique state-specific conditions.\n",
      "  * Challenges and considerations for businesses.\n",
      "- Provide a brief example outline for one representative state.\n",
      "\n",
      "Step 2: Compare the different chains of thought and extract the common, consistent elements across them.\n",
      "\n",
      "Step 3: Produce a final, consolidated requirements analysis for Surplus Lines Tax regulations covering all 50 states. The final answer should:\n",
      "- Be well-organized and structured by state or by regulatory theme.\n",
      "- Reflect the consistent reasoning derived from the multiple chains of thought.\n",
      "- Include only the final consolidated analysis, without showing the individual reasoning paths.\n",
      "\n",
      "Now, please provide the final comprehensive requirements analysis.\n",
      "\n",
      "<think>\n",
      "Okay, I'm trying to figure out how to answer this query about a user's problem with compiling information on regulatory requirements across different states. From what I understand, the user has provided several chains of thought but now wants a consolidated and organized version. \n",
      "\n",
      "First, I need to parse each chain and identify the key points. Each one seems to break down different aspects like consumer protection laws, labor regulations, healthcare policies, tax compliance, and data privacy. It looks like there's some overlap\n",
      "Time taken: 39.261s\n"
     ]
    }
   ],
   "source": [
    "\n",
    "from _pipeline import create_payload, model_req\n",
    "\n",
    "# Define the prompt as a string variable using Self Consistency approach\n",
    "PROMPT = \"\"\"\n",
    "You are an expert on Surplus Lines Tax regulations across all 50 states. Your task is to generate a comprehensive requirements analysis for these regulations using a self-consistency approach.\n",
    "\n",
    "Step 1: Generate at least three separate chain-of-thought reasoning paths. For each chain-of-thought:\n",
    "- Identify the key components needed for a thorough requirements analysis, including:\n",
    "  * An overview of the general regulatory framework.\n",
    "  * Detailed state-specific requirements (such as tax rates, filing deadlines, and documentation requirements).\n",
    "  * Compliance obligations, exemptions, and any unique state-specific conditions.\n",
    "  * Challenges and considerations for businesses.\n",
    "- Provide a brief example outline for one representative state.\n",
    "\n",
    "Step 2: Compare the different chains of thought and extract the common, consistent elements across them.\n",
    "\n",
    "Step 3: Produce a final, consolidated requirements analysis for Surplus Lines Tax regulations covering all 50 states. The final answer should:\n",
    "- Be well-organized and structured by state or by regulatory theme.\n",
    "- Reflect the consistent reasoning derived from the multiple chains of thought.\n",
    "- Include only the final consolidated analysis, without showing the individual reasoning paths.\n",
    "\n",
    "Now, please provide the final comprehensive requirements analysis.\n",
    "\"\"\"\n",
    "\n",
    "# Use this PROMPT variable in your LLM or orchestration setup\n",
    "print(PROMPT)\n",
    "\n",
    "# Count the number of words\n",
    "word_count = len(PROMPT.split())\n",
    "print(\"Number of words in the prompt:\", word_count)\n",
    "\n",
    "#### (3) Configure the Model request, simulating Workflow Orchestration\n",
    "# Documentation: https://github.com/ollama/ollama/blob/main/docs/api.md\n",
    "payload = create_payload(target=\"ollama\",\n",
    "#                         model=\"deepseek-r1:14b\", \n",
    "                         model=\"phi4\",                         \n",
    "                         prompt=PROMPT, \n",
    "                         temperature=0.3, \n",
    "                         num_ctx=word_count, \n",
    "                         num_predict=5000)\n",
    "\n",
    "### YOU DONT NEED TO CONFIGURE ANYTHING ELSE FROM THIS POINT\n",
    "# Send out to the model\n",
    "time, response = model_req(payload=payload)\n",
    "print(response)\n",
    "if time: print(f'Time taken: {time}s')"
   ]
  }
 ],
 "metadata": {
  "kernelspec": {
   "display_name": "venv",
   "language": "python",
   "name": "venv"
  },
  "language_info": {
   "codemirror_mode": {
    "name": "ipython",
    "version": 3
   },
   "file_extension": ".py",
   "mimetype": "text/x-python",
   "name": "python",
   "nbconvert_exporter": "python",
   "pygments_lexer": "ipython3",
   "version": "3.13.1"
  }
 },
 "nbformat": 4,
 "nbformat_minor": 2
}
