{
 "cells": [
  {
   "cell_type": "markdown",
   "id": "054b933b",
   "metadata": {
    "papermill": {
     "duration": 0.00146,
     "end_time": "2025-02-21T02:55:43.928741",
     "exception": false,
     "start_time": "2025-02-21T02:55:43.927281",
     "status": "completed"
    },
    "tags": []
   },
   "source": [
    "\n",
    "\n"
   ]
  },
  {
   "cell_type": "markdown",
   "id": "980a4941",
   "metadata": {
    "papermill": {
     "duration": 0.000994,
     "end_time": "2025-02-21T02:55:43.931296",
     "exception": false,
     "start_time": "2025-02-21T02:55:43.930302",
     "status": "completed"
    },
    "tags": []
   },
   "source": [
    "# Active Prompting\n",
    "Active prompting generally refers to the idea of iteratively refining or adapting a prompt based on feedback from a model’s responses. In such a framework, rather than using a fixed prompt, you actively adjust it—sometimes using techniques inspired by active learning or reinforcement learning—to better steer the model toward the desired output.\n",
    "\n",
    "## Automatic Prompting (AutoPrompt)\n",
    "It’s important to note that the terminology isn’t always used consistently across the literature. While “auto prompting” and “active prompting” can overlap conceptually, there isn’t yet a widely recognized, standalone paper that uses “active prompting” as its exclusive term. For further insights into iterative and adaptive prompt optimization, you might also explore research on dynamic prompt tuning and iterative prompt refinement.\n",
    "\n",
    "## References:\n",
    "* (Shin et al. (2020),)[https://arxiv.org/pdf/2010.15980]"
   ]
  },
  {
   "cell_type": "markdown",
   "id": "79ad22f1",
   "metadata": {
    "papermill": {
     "duration": 0.000932,
     "end_time": "2025-02-21T02:55:43.933061",
     "exception": false,
     "start_time": "2025-02-21T02:55:43.932129",
     "status": "completed"
    },
    "tags": []
   },
   "source": [
    "## Running this code on MyBind.org\n",
    "\n",
    "Note: remember that you will need to **adjust CONFIG** with **proper URL and API_KEY**!\n",
    "\n",
    "[![Binder](https://mybinder.org/badge_logo.svg)](https://mybinder.org/v2/gh/GenILab-FAU/prompt-eng/HEAD?urlpath=%2Fdoc%2Ftree%2Fprompt-eng%2Fchain_of_thought.ipynb)\n"
   ]
  },
  {
   "cell_type": "code",
   "execution_count": 1,
   "id": "46c50831",
   "metadata": {
    "execution": {
     "iopub.execute_input": "2025-02-21T02:55:43.936069Z",
     "iopub.status.busy": "2025-02-21T02:55:43.935766Z",
     "iopub.status.idle": "2025-02-21T02:58:01.637222Z",
     "shell.execute_reply": "2025-02-21T02:58:01.636231Z"
    },
    "papermill": {
     "duration": 137.70585,
     "end_time": "2025-02-21T02:58:01.639808",
     "exception": false,
     "start_time": "2025-02-21T02:55:43.933958",
     "status": "completed"
    },
    "tags": [
     "parameters"
    ]
   },
   "outputs": [
    {
     "name": "stdout",
     "output_type": "stream",
     "text": [
      "\n",
      "You are an expert on Surplus Lines Tax regulations across all 50 states. You are using an Active-Prompt approach, which means you should actively verify your understanding and, if necessary, ask clarifying questions before generating your final output.\n",
      "\n",
      "Step 1: Confirm the key components required for a comprehensive requirements analysis:\n",
      "- A general overview of the surplus lines tax regulatory framework.\n",
      "- Detailed, state-specific requirements including tax rates, filing deadlines, and documentation mandates.\n",
      "- Information on compliance obligations, exemptions, and any unique conditions for each state.\n",
      "- Key challenges and considerations for businesses operating under these regulations.\n",
      "\n",
      "Step 2: If any part of the task or details are unclear, ask a clarifying question to ensure accuracy. Otherwise, proceed with generating a detailed and well-organized analysis, structured by state or regulatory theme.\n",
      "\n",
      "Step 3: Provide only the final consolidated requirements analysis for Surplus Lines Tax regulations, incorporating any necessary active adjustments based on your review.\n",
      "\n",
      "Now, please confirm your understanding (by asking any clarifying questions if needed) and then generate the final comprehensive requirements analysis for Surplus Lines Tax regulations.\n",
      "\n",
      "If you have no clarifying questions, please proceed immediately with the full consolidated requirements analysis for Surplus Lines Tax regulations.\n",
      "\n",
      "Number of words in the prompt: 199\n"
     ]
    },
    {
     "name": "stdout",
     "output_type": "stream",
     "text": [
      "### Comprehensive Requirements Analysis: Surplus Lines Tax Regulations\n",
      "\n",
      "#### Overview of Surplus Lines Insurance\n",
      "\n",
      "Surplus lines insurance refers to coverage provided by insurers not licensed in a particular state but authorized to write policies under certain conditions. This type of insurance is often sought when standard market options are unavailable or inadequate, typically for high-risk entities or unique exposures.\n",
      "\n",
      "#### General Regulatory Framework\n",
      "\n",
      "1. **Purpose**: Surplus lines taxes fund regulatory activities and ensure that surplus line brokers comply with state laws.\n",
      "2. **Regulation**: Governed by the Nonadmitted and Reinsurance Reform Act of 2010 (NAR) at the federal level, which aims to streamline regulations across states while allowing for state-specific nuances.\n",
      "\n",
      "#### Key Regulatory Considerations\n",
      "\n",
      "1. **Broker Licensing**: Surplus line brokers must be licensed in their home state and comply with any additional requirements of the state where they place coverage.\n",
      "2. **Due Diligence**: Brokers are required to perform due diligence to ensure that the insurer is authorized to write insurance in the relevant jurisdiction.\n",
      "3. **Notice Filings**: Depending on the state, brokers may need to file notices for each transaction with the state's department of insurance.\n",
      "\n",
      "#### Taxation and Fees\n",
      "\n",
      "1. **Premium Taxes**: Surplus lines premiums are subject to taxation, which varies by state. Some states impose a tax based on the gross premium, while others use a net or adjusted premium basis.\n",
      "2. **State-Specific Fees**: In addition to taxes, brokers may be required to pay additional fees for filing and regulatory compliance.\n",
      "\n",
      "#### Regulatory Compliance\n",
      "\n",
      "1. **NAIC Model Laws**: The National Association of Insurance Commissioners (NAIC) provides model laws that many states adopt or adapt for their surplus lines regulations.\n",
      "2. **Licensing Requirements**: Brokers must comply with licensing requirements, which can vary significantly from state to state.\n",
      "\n",
      "#### Challenges and Considerations\n",
      "\n",
      "1. **Market Conduct**: Surplus lines insurers are not subject to the same market conduct examinations as admitted carriers, potentially affecting consumer protections.\n",
      "2. **Taxation**: The taxation of surplus lines premiums is complex and varies by jurisdiction, often involving allocation formulas based on where risk is located.\n",
      "\n",
      "Understanding these nuances is crucial for brokers, insurers, and insureds navigating the surplus lines market.\n",
      "Time taken: 137.438s\n"
     ]
    }
   ],
   "source": [
    "from _pipeline import create_payload, model_req\n",
    "\n",
    "\n",
    "# Define the prompt as a string variable using an Active-Prompt approach\n",
    "\n",
    "PROMPT = \"\"\"\n",
    "You are an expert on Surplus Lines Tax regulations across all 50 states. You are using an Active-Prompt approach, which means you should actively verify your understanding and, if necessary, ask clarifying questions before generating your final output.\n",
    "\n",
    "Step 1: Confirm the key components required for a comprehensive requirements analysis:\n",
    "- A general overview of the surplus lines tax regulatory framework.\n",
    "- Detailed, state-specific requirements including tax rates, filing deadlines, and documentation mandates.\n",
    "- Information on compliance obligations, exemptions, and any unique conditions for each state.\n",
    "- Key challenges and considerations for businesses operating under these regulations.\n",
    "\n",
    "Step 2: If any part of the task or details are unclear, ask a clarifying question to ensure accuracy. Otherwise, proceed with generating a detailed and well-organized analysis, structured by state or regulatory theme.\n",
    "\n",
    "Step 3: Provide only the final consolidated requirements analysis for Surplus Lines Tax regulations, incorporating any necessary active adjustments based on your review.\n",
    "\n",
    "Now, please confirm your understanding (by asking any clarifying questions if needed) and then generate the final comprehensive requirements analysis for Surplus Lines Tax regulations.\n",
    "\n",
    "If you have no clarifying questions, please proceed immediately with the full consolidated requirements analysis for Surplus Lines Tax regulations.\n",
    "\"\"\"\n",
    "\n",
    "# You can then use this PROMPT variable with your LLM or orchestration setup\n",
    "print(PROMPT)\n",
    "\n",
    "# Count the number of words\n",
    "word_count = len(PROMPT.split())\n",
    "print(\"Number of words in the prompt:\", word_count)\n",
    " \n",
    "#### (3) Configure the Model request, simulating Workflow Orchestration\n",
    "# Documentation: https://github.com/ollama/ollama/blob/main/docs/api.md\n",
    "payload = create_payload(target=\"ollama\",\n",
    "#                         model=\"deepseek-r1:14b\", \n",
    "                         model=\"phi4\",                         \n",
    "                         prompt=PROMPT, \n",
    "                         temperature=0.3, \n",
    "                         num_ctx=word_count, \n",
    "                         num_predict=5000)\n",
    "\n",
    "### YOU DONT NEED TO CONFIGURE ANYTHING ELSE FROM THIS POINT\n",
    "# Send out to the model\n",
    "time, response = model_req(payload=payload)\n",
    "print(response)\n",
    "if time: print(f'Time taken: {time}s')"
   ]
  }
 ],
 "metadata": {
  "kernelspec": {
   "display_name": "venv",
   "language": "python",
   "name": "venv"
  },
  "language_info": {
   "codemirror_mode": {
    "name": "ipython",
    "version": 3
   },
   "file_extension": ".py",
   "mimetype": "text/x-python",
   "name": "python",
   "nbconvert_exporter": "python",
   "pygments_lexer": "ipython3",
   "version": "3.13.1"
  },
  "papermill": {
   "default_parameters": {},
   "duration": 139.279781,
   "end_time": "2025-02-21T02:58:01.875204",
   "environment_variables": {},
   "exception": null,
   "input_path": "active_prompt.ipynb",
   "output_path": "executed_active_prompt.ipynb",
   "parameters": {},
   "start_time": "2025-02-21T02:55:42.595423",
   "version": "2.6.0"
  }
 },
 "nbformat": 4,
 "nbformat_minor": 5
}