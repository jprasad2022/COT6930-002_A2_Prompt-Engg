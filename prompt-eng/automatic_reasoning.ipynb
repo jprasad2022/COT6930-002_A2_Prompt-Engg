{
 "cells": [
  {
   "cell_type": "markdown",
   "metadata": {},
   "source": [
    "\n",
    "\n"
   ]
  },
  {
   "cell_type": "markdown",
   "metadata": {},
   "source": [
    "# Automatic Reasoning\n",
    "\n",
    "Automatic Reasoning refers to techniques that encourage the model to generate and follow a logical sequence of intermediate steps—its “reasoning”—without explicit, step-by-step instructions from a human. By designing prompts that trigger the model to \"think through\" a problem (often known as chain-of-thought prompting), you let the model automatically produce intermediate reasoning steps before arriving at a final answer.   \n",
    "\n",
    "A key paper demonstrating this concept is \"Chain-of-Thought Prompting Elicits Reasoning in Large Language Models\" by Jason Wei et al. (2022). This work shows that by simply adding a prompt that invites the model to explain its reasoning step-by-step, you can significantly improve its performance on complex tasks.\n",
    "\n",
    "Chain-of-thought prompting is a method to reveal the automatic reasoning process, while automatic reasoning is the broader, often unseen, cognitive function of the model.\n",
    "\n",
    "## References:\n",
    "* (Wei et al. (2022),)[https://arxiv.org/abs/2201.11903]\n",
    "* (OpenAI Documentation for Prompt Engineering)[https://platform.openai.com/docs/guides/prompt-engineering]"
   ]
  },
  {
   "cell_type": "markdown",
   "metadata": {},
   "source": [
    "## Running this code on MyBind.org\n",
    "\n",
    "Note: remember that you will need to **adjust CONFIG** with **proper URL and API_KEY**!\n",
    "\n",
    "[![Binder](https://mybinder.org/badge_logo.svg)](https://mybinder.org/v2/gh/GenILab-FAU/prompt-eng/HEAD?urlpath=%2Fdoc%2Ftree%2Fprompt-eng%2Fchain_of_thought.ipynb)\n"
   ]
  },
  {
   "cell_type": "code",
   "execution_count": null,
   "metadata": {},
   "outputs": [
    {
     "name": "stdout",
     "output_type": "stream",
     "text": [
      "\n",
      "You are an expert on Surplus Lines Tax regulations across all 50 states. Your task is to produce a comprehensive requirements analysis for these regulations using a Retrieval-Augmented Generation (RAG) approach.\n",
      "\n",
      "Step 1: Retrieval Phase\n",
      "- Retrieve and review up-to-date, authoritative sources or documents that contain the latest information on Surplus Lines Tax regulations.\n",
      "- Focus on gathering details for all 50 states, including tax rates, filing deadlines, documentation requirements, compliance obligations, exemptions, and any unique state-specific conditions.\n",
      "\n",
      "Step 2: Synthesis Phase\n",
      "- Using the retrieved information, synthesize a detailed and well-organized requirements analysis.\n",
      "- Organize your final analysis by state or regulatory theme.\n",
      "- Ensure that your final output is accurate, comprehensive, and concise, and do not include the intermediate retrieval details.\n",
      "\n",
      "Now, please generate the final comprehensive requirements analysis for Surplus Lines Tax regulations.\n",
      "\n",
      "<think>\n",
      "Okay, I need to help the user with a comprehensive requirements analysis for Surplus Lines Tax regulations. The user has already given me a detailed response divided by state themes and regulatory themes, covering federal, California, New York, Texas, Florida, Massachusetts, and New Jersey. Each section includes key considerations like licensing, taxation, reporting, compliance, and specific examples of rules in each state.\n",
      "\n",
      "I should start by understanding what exactly the user is looking for. They mentioned that they're providing a\n",
      "Time taken: 39.891s\n"
     ]
    }
   ],
   "source": [
    "from _pipeline import create_payload, model_req\n",
    "\n",
    "# Define the prompt as a string variable using Automatic Reasoning\n",
    "PROMPT = \"\"\"\n",
    "You are an expert on Surplus Lines Tax regulations across all 50 states. Your task is to produce a comprehensive requirements analysis for these regulations using your advanced automatic reasoning capabilities.\n",
    "\n",
    "Without exposing your internal reasoning, automatically determine and integrate the following:\n",
    "- An overview of the general regulatory framework for surplus lines tax.\n",
    "- Detailed, state-specific requirements including tax rates, filing deadlines, and documentation mandates.\n",
    "- Information on compliance obligations, exemptions, and any unique conditions for each state.\n",
    "- Key challenges and considerations for businesses operating under these regulations.\n",
    "\n",
    "Rely on your internal reasoning processes to autonomously evaluate and validate all necessary components, then produce a final, well-organized analysis covering all 50 states. Only output the final consolidated analysis.\n",
    "\n",
    "Now, please generate the final comprehensive requirements analysis for Surplus Lines Tax regulations.\n",
    "\"\"\"\n",
    "\n",
    "# You can then use this PROMPT variable in your LLM or orchestration setup\n",
    "print(PROMPT)\n",
    "\n",
    "\n",
    "# Count the number of words\n",
    "word_count = len(PROMPT.split())\n",
    "print(\"Number of words in the prompt:\", word_count)\n",
    "\n",
    "#### (3) Configure the Model request, simulating Workflow Orchestration\n",
    "# Documentation: https://github.com/ollama/ollama/blob/main/docs/api.md\n",
    "payload = create_payload(target=\"ollama\",\n",
    "#                         model=\"deepseek-r1:14b\", \n",
    "                         model=\"phi4\",                         \n",
    "                         prompt=PROMPT, \n",
    "                         temperature=0.3, \n",
    "                         num_ctx=word_count, \n",
    "                         num_predict=5000)\n",
    "\n",
    "### YOU DONT NEED TO CONFIGURE ANYTHING ELSE FROM THIS POINT\n",
    "# Send out to the model\n",
    "time, response = model_req(payload=payload)\n",
    "print(response)\n",
    "if time: print(f'Time taken: {time}s')"
   ]
  }
 ],
 "metadata": {
  "kernelspec": {
   "display_name": "venv",
   "language": "python",
   "name": "venv"
  },
  "language_info": {
   "codemirror_mode": {
    "name": "ipython",
    "version": 3
   },
   "file_extension": ".py",
   "mimetype": "text/x-python",
   "name": "python",
   "nbconvert_exporter": "python",
   "pygments_lexer": "ipython3",
   "version": "3.13.1"
  }
 },
 "nbformat": 4,
 "nbformat_minor": 2
}
