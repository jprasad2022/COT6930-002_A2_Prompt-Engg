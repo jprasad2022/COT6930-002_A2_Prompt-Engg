{
 "cells": [
  {
   "cell_type": "markdown",
   "metadata": {},
   "source": [
    "\n",
    "\n"
   ]
  },
  {
   "cell_type": "markdown",
   "metadata": {},
   "source": [
    "# Meta Prompting\n",
    "\n",
    "Meta prompting is an advanced technique in prompt engineering that emphasizes the structural and syntactical organization of tasks and problems rather than focusing on their specific content. The objective is to create a more abstract, form-driven way of engaging with large language models (LLMs), highlighting patterns and structure over traditional content-focused methods.\n",
    "\n",
    "As outlined by [Zhang et al. (2024)](https://arxiv.org/abs/2311.11482), the defining features of meta prompting include:\n",
    "\n",
    "* Structure-Oriented: Prioritizes the organization and pattern of problems and solutions instead of specific content.\n",
    "* Syntax-Guided: Leverages syntax as a template to shape the expected responses or solutions.\n",
    "* Abstract Frameworks: Uses abstract examples as blueprints, demonstrating the structure of tasks without relying on concrete details.\n",
    "* Domain Versatility: Can be applied across multiple fields, offering structured solutions to diverse problem types.\n",
    "* Categorical Approach: Draws on type theory to organize and categorize components logically, enhancing prompt coherence and precision."
   ]
  },
  {
   "cell_type": "markdown",
   "metadata": {},
   "source": [
    "## Running this code on MyBind.org\n",
    "\n",
    "Note: remember that you will need to **adjust CONFIG** with **proper URL and API_KEY**!\n",
    "\n",
    "[![Binder](https://mybinder.org/badge_logo.svg)](https://mybinder.org/v2/gh/GenILab-FAU/prompt-eng/HEAD?urlpath=%2Fdoc%2Ftree%2Fprompt-eng%2Fmeta.ipynb)\n",
    "\n"
   ]
  },
  {
   "cell_type": "code",
   "execution_count": null,
   "metadata": {},
   "outputs": [
    {
     "name": "stdout",
     "output_type": "stream",
     "text": [
      "\n",
      "You are a meta-prompting expert and an authority on Surplus Lines Tax regulations across all 50 states.\n",
      "Your task is to generate a meta prompt that will instruct an AI to create a comprehensive requirements analysis for these regulations.\n",
      "\n",
      "The meta prompt should guide the AI to follow a two-phase process:\n",
      "\n",
      "Phase 1: Planning and Reflection\n",
      "- Identify and outline the key components needed for a thorough requirements analysis. These should include:\n",
      "  * An overview of the general regulatory framework for surplus lines tax.\n",
      "  * Detailed state-specific requirements, such as tax rates, filing deadlines, and documentation.\n",
      "  * Compliance obligations and any exemptions or unique conditions for each state.\n",
      "  * Challenges and considerations that businesses may face.\n",
      "- Instruct the AI to briefly list these components as a planning step before writing the full analysis.\n",
      "\n",
      "Phase 2: Execution\n",
      "- Direct the AI to write a detailed, well-organized analysis that covers all 50 states.\n",
      "- The final analysis should be structured by state or regulatory theme, clearly presenting all the identified components.\n",
      "- Ensure the analysis is comprehensive, clear, and concise.\n",
      "\n",
      "Now, generate the final meta prompt that encapsulates these instructions.\n",
      "\n",
      "<think>\n",
      "Alright, so I need to help create a prompt for someone who's working on analyzing data related to all 50 states in the U.S. The user provided some detailed instructions about structuring this analysis by state or regulatory theme, using charts and tables where applicable. They also mentioned that the analysis should be clear and accessible, avoiding jargon unless necessary.\n",
      "\n",
      "First, I should understand what exactly they're looking for. It seems like they want a comprehensive analysis that covers various aspects of whatever\n",
      "Time taken: 38.866s\n"
     ]
    }
   ],
   "source": [
    "##\n",
    "## META PROMPTING\n",
    "##\n",
    "\n",
    "from _pipeline import create_payload, model_req\n",
    "\n",
    "\n",
    "# Define the meta-prompt as a string variable using Meta Prompting\n",
    "PROMPT = \"\"\"\n",
    "You are a meta-prompting expert and an authority on Surplus Lines Tax regulations across all 50 states.\n",
    "Your task is to generate a meta prompt that will instruct an AI to create a comprehensive requirements analysis for these regulations.\n",
    "\n",
    "The meta prompt should guide the AI to follow a two-phase process:\n",
    "\n",
    "Phase 1: Planning and Reflection\n",
    "- Identify and outline the key components needed for a thorough requirements analysis. These should include:\n",
    "  * An overview of the general regulatory framework for surplus lines tax.\n",
    "  * Detailed state-specific requirements, such as tax rates, filing deadlines, and documentation.\n",
    "  * Compliance obligations and any exemptions or unique conditions for each state.\n",
    "  * Challenges and considerations that businesses may face.\n",
    "- Instruct the AI to briefly list these components as a planning step before writing the full analysis.\n",
    "\n",
    "Phase 2: Execution\n",
    "- Direct the AI to write a detailed, well-organized analysis that covers all 50 states.\n",
    "- The final analysis should be structured by state or regulatory theme, clearly presenting all the identified components.\n",
    "- Ensure the analysis is comprehensive, clear, and concise.\n",
    "\n",
    "Now, generate the final meta prompt that encapsulates these instructions.\n",
    "\"\"\"\n",
    "\n",
    "# You can then use this PROMPT variable with your LLM or orchestration setup\n",
    "print(PROMPT)\n",
    "\n",
    "# Count the number of words\n",
    "word_count = len(PROMPT.split())\n",
    "print(\"Number of words in the prompt:\", word_count)\n",
    "\n",
    "#### (3) Configure the Model request, simulating Workflow Orchestration\n",
    "# Documentation: https://github.com/ollama/ollama/blob/main/docs/api.md\n",
    "payload = create_payload(target=\"ollama\",\n",
    "#                         model=\"deepseek-r1:14b\", \n",
    "                         model=\"phi4\",                         \n",
    "                         prompt=PROMPT, \n",
    "                         temperature=0.3, \n",
    "                         num_ctx=word_count, \n",
    "                         num_predict=5000)\n",
    "\n",
    "### YOU DONT NEED TO CONFIGURE ANYTHING ELSE FROM THIS POINT\n",
    "# Send out to the model\n",
    "time, response = model_req(payload=payload)\n",
    "print(response)\n",
    "if time: print(f'Time taken: {time}s')"
   ]
  }
 ],
 "metadata": {
  "kernelspec": {
   "display_name": "venv",
   "language": "python",
   "name": "venv"
  },
  "language_info": {
   "codemirror_mode": {
    "name": "ipython",
    "version": 3
   },
   "file_extension": ".py",
   "mimetype": "text/x-python",
   "name": "python",
   "nbconvert_exporter": "python",
   "pygments_lexer": "ipython3",
   "version": "3.13.1"
  }
 },
 "nbformat": 4,
 "nbformat_minor": 2
}
