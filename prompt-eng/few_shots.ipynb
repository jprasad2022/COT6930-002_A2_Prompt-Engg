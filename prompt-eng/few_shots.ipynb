{
 "cells": [
  {
   "cell_type": "markdown",
   "metadata": {},
   "source": [
    "\n",
    "\n"
   ]
  },
  {
   "cell_type": "markdown",
   "metadata": {},
   "source": [
    "# Few-Shots Prompting\n",
    "\n",
    "Few-shot prompting can be used as a technique to enable in-context learning where we provide demonstrations in the prompt to steer the model to better performance. The demonstrations serve as conditioning for subsequent examples where we would like the model to generate a response.\n",
    "\n",
    "## References:\n",
    "* [Touvron et al. 2023](https://arxiv.org/pdf/2302.13971.pdf): present few shot properties  when models were scaled to a sufficient size\n",
    "* [Kaplan et al., 2020](https://arxiv.org/abs/2001.08361)\n",
    "* [Brown et al. 2020](https://arxiv.org/abs/2005.14165)\n"
   ]
  },
  {
   "cell_type": "markdown",
   "metadata": {},
   "source": [
    "## Running this code on MyBind.org\n",
    "\n",
    "Note: remember that you will need to **adjust CONFIG** with **proper URL and API_KEY**!\n",
    "\n",
    "[![Binder](https://mybinder.org/badge_logo.svg)](https://mybinder.org/v2/gh/GenILab-FAU/prompt-eng/HEAD?urlpath=%2Fdoc%2Ftree%2Fprompt-eng%2Ffew_shots.ipynb)\n",
    "\n"
   ]
  },
  {
   "cell_type": "code",
   "execution_count": null,
   "metadata": {},
   "outputs": [
    {
     "name": "stdout",
     "output_type": "stream",
     "text": [
      "<think>\n",
      "I need to calculate 984 multiplied by the logarithm of 2.\n",
      "\n",
      "First, I'll determine the value of log(2), which is approximately 0.3010.\n",
      "\n",
      "Next, I'll multiply this value by 984: 984 × 0.3010 = 296.084.\n",
      "</think>\n",
      "\n",
      "To calculate \\( 984 \\times \\log_{10} 5 \\), we'll\n",
      "Time taken: 33.12s\n"
     ]
    }
   ],
   "source": [
    "##\n",
    "## FEW SHOTS PROMPTING\n",
    "##\n",
    "\n",
    "from _pipeline import create_payload, model_req\n",
    "\n",
    "# Define the prompt as a string variable using few shots prompting\n",
    "\n",
    "PROMPT = \"\"\"\n",
    "Below are examples of requirements analysis for Surplus Lines Tax regulations:\n",
    "\n",
    "Example 1 (California):\n",
    "Overview: California requires surplus lines insurers to file with the California Department of Insurance. The filing includes detailed information on tax rates, deadlines, and documentation. Certain exemptions apply for qualifying insurers.\n",
    "Key Requirements:\n",
    "- Tax Rate: Specific rates vary based on policy type.\n",
    "- Filing Deadline: Annual filings are typically due by the end of Q1.\n",
    "- Documentation: Must include policy details, premium calculations, and exemption certificates.\n",
    "- Compliance: Regular audits and strict penalties for non-compliance.\n",
    "\n",
    "Example 2 (New York):\n",
    "Overview: New York enforces strict guidelines for surplus lines tax filings. Insurers must submit comprehensive reports that detail tax obligations, deadlines, and regulatory compliance.\n",
    "Key Requirements:\n",
    "- Tax Rate: Varies according to policy type and risk profile.\n",
    "- Filing Deadline: Filings are due bi-annually with precise reporting requirements.\n",
    "- Documentation: Detailed records of policy specifics, exemptions, and supporting financial data are required.\n",
    "- Compliance: Enhanced oversight with periodic audits and enforcement actions.\n",
    "\n",
    "Now, as an expert in Surplus Lines Tax regulations across all 50 states, write a comprehensive requirements analysis for these regulations. Your analysis should include:\n",
    "- An overview of the key regulatory requirements in each state.\n",
    "- Specific details on tax rates, filing deadlines, and documentation requirements.\n",
    "- Information on compliance obligations, exemptions, and any unique state-specific conditions.\n",
    "- An assessment of challenges and considerations for businesses operating under these regulations.\n",
    "\n",
    "Ensure your analysis is detailed, well-structured, and clearly organized by state or by regulatory theme where appropriate.\n",
    "\"\"\"\n",
    "\n",
    "# Use this prompt in your LLM or orchestration setup\n",
    "print(PROMPT)\n",
    "\n",
    "# Count the number of words\n",
    "word_count = len(PROMPT.split())\n",
    "print(\"Number of words in the prompt:\", word_count)\n",
    "\n",
    "#### (3) Configure the Model request, simulating Workflow Orchestration\n",
    "# Documentation: https://github.com/ollama/ollama/blob/main/docs/api.md\n",
    "payload = create_payload(target=\"ollama\",\n",
    "#                         model=\"deepseek-r1:14b\", \n",
    "                         model=\"phi4\",                         \n",
    "                         prompt=PROMPT, \n",
    "                         temperature=0.3, \n",
    "                         num_ctx=word_count, \n",
    "                         num_predict=5000)\n",
    "\n",
    "### YOU DONT NEED TO CONFIGURE ANYTHING ELSE FROM THIS POINT\n",
    "# Send out to the model\n",
    "time, response = model_req(payload=payload)\n",
    "print(response)\n",
    "if time: print(f'Time taken: {time}s')"
   ]
  },
  {
   "cell_type": "markdown",
   "metadata": {},
   "source": [
    "## How to improve it?\n",
    "\n",
    "Following the findings from [Min et al. (2022)](https://arxiv.org/abs/2202.12837), here are a few more tips about demonstrations/exemplars when doing few-shot:\n",
    "\n",
    "* \"the label space and the distribution of the input text specified by the demonstrations are both important (regardless of whether the labels are correct for individual inputs)\"\n",
    "* the format you use also plays a key role in performance, even if you just use random labels, this is much better than no labels at all.\n",
    "* additional results show that selecting random labels from a true distribution of labels (instead of a uniform distribution) also helps."
   ]
  }
 ],
 "metadata": {
  "kernelspec": {
   "display_name": "venv",
   "language": "python",
   "name": "venv"
  },
  "language_info": {
   "codemirror_mode": {
    "name": "ipython",
    "version": 3
   },
   "file_extension": ".py",
   "mimetype": "text/x-python",
   "name": "python",
   "nbconvert_exporter": "python",
   "pygments_lexer": "ipython3",
   "version": "3.13.1"
  }
 },
 "nbformat": 4,
 "nbformat_minor": 2
}
